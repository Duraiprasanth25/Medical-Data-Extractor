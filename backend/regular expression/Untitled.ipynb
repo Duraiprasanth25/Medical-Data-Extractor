{
 "cells": [
  {
   "cell_type": "code",
   "execution_count": 21,
   "id": "893d6f99-273a-48a3-9673-8a8783421779",
   "metadata": {},
   "outputs": [],
   "source": [
    "import re"
   ]
  },
  {
   "cell_type": "code",
   "execution_count": 22,
   "id": "cb052b22-9920-4d1e-97d2-f54395e8d5ec",
   "metadata": {},
   "outputs": [
    {
     "data": {
      "text/plain": [
       "['7321111998', '120']"
      ]
     },
     "execution_count": 22,
     "metadata": {},
     "output_type": "execute_result"
    }
   ],
   "source": [
    "text = \"Patient's phone number is 7321111998. Bill amount is 120$\"\n",
    "\n",
    "pattern = '\\d+'\n",
    "\n",
    "match = re.findall(pattern,text)\n",
    "match"
   ]
  },
  {
   "cell_type": "code",
   "execution_count": 23,
   "id": "3db4a74e-a903-4338-a15c-f751deb70884",
   "metadata": {},
   "outputs": [
    {
     "data": {
      "text/plain": [
       "['7321111998']"
      ]
     },
     "execution_count": 23,
     "metadata": {},
     "output_type": "execute_result"
    }
   ],
   "source": [
    "text = \"Patient's phone number is 7321111998. Bill amount is 120$\"\n",
    "\n",
    "pattern = '\\d{10}'\n",
    "\n",
    "match = re.findall(pattern,text)\n",
    "match"
   ]
  },
  {
   "cell_type": "code",
   "execution_count": 24,
   "id": "48fbc080-4876-4b3c-8aff-0948ee5c9fa1",
   "metadata": {},
   "outputs": [
    {
     "data": {
      "text/plain": [
       "['(732)-111-9999', '7326666444']"
      ]
     },
     "execution_count": 24,
     "metadata": {},
     "output_type": "execute_result"
    }
   ],
   "source": [
    "text = \"patient's phone is (732)-111-9999, spouse phone number 7326666444. Bill amount is 120$\"\n",
    "\n",
    "pattern = '\\(\\d+\\)-\\d{3}-\\d{4}|\\d{10}'\n",
    "\n",
    "match = re.findall(pattern,text)\n",
    "match"
   ]
  },
  {
   "cell_type": "code",
   "execution_count": 25,
   "id": "bf1fbe2e-5435-4494-ae32-51437f4d993f",
   "metadata": {},
   "outputs": [
    {
     "data": {
      "text/plain": [
       "<re.Match object; span=(26, 57), match='7321111998. Bill amount is 120$'>"
      ]
     },
     "execution_count": 25,
     "metadata": {},
     "output_type": "execute_result"
    }
   ],
   "source": [
    "text = \"Patient's phone number is 7321111998. Bill amount is 120$\"\n",
    "\n",
    "pattern = \"(\\d{10})\\D+(\\d+)\\$\"\n",
    "\n",
    "match = re.search(pattern,text)\n",
    "match"
   ]
  },
  {
   "cell_type": "code",
   "execution_count": 26,
   "id": "06f205ec-0ef2-40f1-9dd1-14c905b375de",
   "metadata": {},
   "outputs": [
    {
     "data": {
      "text/plain": [
       "('7321111998', '120')"
      ]
     },
     "execution_count": 26,
     "metadata": {},
     "output_type": "execute_result"
    }
   ],
   "source": [
    "match.groups()"
   ]
  },
  {
   "cell_type": "code",
   "execution_count": 27,
   "id": "4dafb41e-d6d3-4dcd-ad38-caf464f30b98",
   "metadata": {},
   "outputs": [],
   "source": [
    "text = '''\n",
    "\n",
    "Name: Marta Sharapova Date: 5/11/2022\n",
    "Address: 9 tennis court, new Russia, DC\n",
    "\n",
    "Prednisone 20 mg\n",
    "Lialda 2.4 gram\n",
    "\n",
    "Directions:\n",
    "\n",
    "Prednisone, Taper 5 mg every 3 days,\n",
    "Finish in 2.5 weeks -\n",
    "Lialda - take 2 pill everyday for 1 month\n",
    "\n",
    "Refill: 2 times\n",
    "'''"
   ]
  },
  {
   "cell_type": "code",
   "execution_count": 28,
   "id": "27c98aa4-aa64-423d-a0fd-32d61db935c7",
   "metadata": {},
   "outputs": [
    {
     "data": {
      "text/plain": [
       "'Marta Sharapova'"
      ]
     },
     "execution_count": 28,
     "metadata": {},
     "output_type": "execute_result"
    }
   ],
   "source": [
    "pattern = \"Name:(.*)Date\"\n",
    "\n",
    "match = re.findall(pattern, text)\n",
    "match[0].strip()"
   ]
  },
  {
   "cell_type": "code",
   "execution_count": 29,
   "id": "284d0ff1-9fa3-485f-bd16-a4ba741885be",
   "metadata": {},
   "outputs": [
    {
     "data": {
      "text/plain": [
       "'9 tennis court, new Russia, DC'"
      ]
     },
     "execution_count": 29,
     "metadata": {},
     "output_type": "execute_result"
    }
   ],
   "source": [
    "pattern = \"Address:(.*)\\n\"\n",
    "\n",
    "match = re.findall(pattern, text)\n",
    "match[0].strip()"
   ]
  },
  {
   "cell_type": "code",
   "execution_count": 30,
   "id": "5d200fbe-8e96-46bd-8a25-8e9de2fdbfcf",
   "metadata": {},
   "outputs": [
    {
     "data": {
      "text/plain": [
       "'Prednisone 20 mg\\nLialda 2.4 gram'"
      ]
     },
     "execution_count": 30,
     "metadata": {},
     "output_type": "execute_result"
    }
   ],
   "source": [
    "pattern =  \"Address:[^\\n]*(.*)Directions\"\n",
    "\n",
    "match = re.findall(pattern, text, flags=re.DOTALL)\n",
    "match[0].strip()"
   ]
  },
  {
   "cell_type": "code",
   "execution_count": 32,
   "id": "790616c1-cfb5-4cc7-9758-eab6ab9868e3",
   "metadata": {},
   "outputs": [
    {
     "data": {
      "text/plain": [
       "['\\n\\nPrednisone, Taper 5 mg every 3 days,\\nFinish in 2.5 weeks -\\nLialda - take 2 pill everyday for 1 month\\n\\n']"
      ]
     },
     "execution_count": 32,
     "metadata": {},
     "output_type": "execute_result"
    }
   ],
   "source": [
    "pattern = \"Directions:(.*)Refill\"\n",
    "\n",
    "match = re.findall(pattern, text, flags=re.DOTALL)\n",
    "match"
   ]
  },
  {
   "cell_type": "code",
   "execution_count": 33,
   "id": "3a5f915c-a85e-44b6-a5fb-6ca2a2bb704b",
   "metadata": {},
   "outputs": [
    {
     "data": {
      "text/plain": [
       "[' 2 ']"
      ]
     },
     "execution_count": 33,
     "metadata": {},
     "output_type": "execute_result"
    }
   ],
   "source": [
    "pattern = \"Refill:(.*)times\"\n",
    "\n",
    "match = re.findall(pattern, text,)\n",
    "match"
   ]
  },
  {
   "cell_type": "markdown",
   "id": "c8af9903-5023-47cc-8561-4cc7a93ec463",
   "metadata": {},
   "source": [
    "#Extract all Twitter handles from the following text (i.e. your answer should be teslarati, dummy_tesla, and dummy_2_tesla). Twitter handle is the text that appears after https://twitter.com/ and is a single word. Also, it contains only alphanumeric characters i.e. A-Z a-z, o to 9, and underscore _\n",
    "\n",
    "text = \"Follow our leader Elon musk on Twitter here: https://twitter.com/elonmusk, more information on Tesla's products can be found at https://www.tesla.com/. \n",
    "\n",
    "Also here are leading influencers for tesla-related news, \n",
    "https://twitter.com/teslarati\n",
    "https://twitter.com/dummy_tesla\n",
    "https://twitter.com/dummy_2_tesla\""
   ]
  },
  {
   "cell_type": "code",
   "execution_count": null,
   "id": "3456a222-6c3a-4ec7-a110-c0aa7ded9671",
   "metadata": {},
   "outputs": [],
   "source": []
  },
  {
   "cell_type": "code",
   "execution_count": null,
   "id": "18d15290-477a-482f-acac-c498d16d1ad3",
   "metadata": {},
   "outputs": [],
   "source": []
  }
 ],
 "metadata": {
  "kernelspec": {
   "display_name": "Python 3 (ipykernel)",
   "language": "python",
   "name": "python3"
  },
  "language_info": {
   "codemirror_mode": {
    "name": "ipython",
    "version": 3
   },
   "file_extension": ".py",
   "mimetype": "text/x-python",
   "name": "python",
   "nbconvert_exporter": "python",
   "pygments_lexer": "ipython3",
   "version": "3.8.10"
  }
 },
 "nbformat": 4,
 "nbformat_minor": 5
}
