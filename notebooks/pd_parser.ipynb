{
 "cells": [
  {
   "cell_type": "code",
   "execution_count": 2,
   "id": "0e149dca-174f-43b2-8d15-4b98e51c2848",
   "metadata": {},
   "outputs": [],
   "source": [
    "from pdf2image import convert_from_path"
   ]
  },
  {
   "cell_type": "code",
   "execution_count": 3,
   "id": "049a279f-0367-471f-acbe-12fc1b958c63",
   "metadata": {},
   "outputs": [],
   "source": [
    "pages = convert_from_path(r'docs\\patient_details\\pd_1.pdf',poppler_path =r'C:\\poppler-24.02.0\\Library\\bin')"
   ]
  },
  {
   "cell_type": "code",
   "execution_count": 4,
   "id": "7e317a7f-b167-45b0-bd19-32e1edf0834e",
   "metadata": {},
   "outputs": [
    {
     "data": {
      "text/plain": [
       "[<PIL.PpmImagePlugin.PpmImageFile image mode=RGB size=1867x2000 at 0x178D10A8EB0>,\n",
       " <PIL.PpmImagePlugin.PpmImageFile image mode=RGB size=2000x1398 at 0x178D10A8CA0>]"
      ]
     },
     "execution_count": 4,
     "metadata": {},
     "output_type": "execute_result"
    }
   ],
   "source": [
    "pages"
   ]
  },
  {
   "cell_type": "code",
   "execution_count": 5,
   "id": "4a2a2ca1-deb2-4024-b2a5-17be9c00e93b",
   "metadata": {},
   "outputs": [
    {
     "data": {
      "text/plain": [
       "<bound method Image.show of <PIL.PpmImagePlugin.PpmImageFile image mode=RGB size=1867x2000 at 0x178D10A8EB0>>"
      ]
     },
     "execution_count": 5,
     "metadata": {},
     "output_type": "execute_result"
    }
   ],
   "source": [
    "pages[0].show"
   ]
  },
  {
   "cell_type": "code",
   "execution_count": 6,
   "id": "c3a61aca-8207-4199-963d-acd7e62c2ea3",
   "metadata": {},
   "outputs": [],
   "source": [
    "import pytesseract"
   ]
  },
  {
   "cell_type": "code",
   "execution_count": 7,
   "id": "907bcbcf-3948-4768-a29e-d00169cd989b",
   "metadata": {},
   "outputs": [
    {
     "name": "stdout",
     "output_type": "stream",
     "text": [
      "47/12/2020\n",
      "\n",
      "Patient Medical Record\n",
      "\n",
      "Patient Information Birth Date\n",
      "Kathy Crawford May 6 1972\n",
      "(737) 988-0851 Weight\n",
      "9264 Ash Dr 95\n",
      "New York City, 10005 .\n",
      "United States Height:\n",
      "190\n",
      "In Case of Emergency\n",
      "m _ a _\n",
      "Simeone Crawford 9266 Ash Dr\n",
      "New York City, New York, 10005\n",
      "Home phone United States\n",
      "(990) 375-4621\n",
      "Work phone\n",
      "Genera! Medical History\n",
      ". : a ee\n",
      "\n",
      "Chicken Pox (Varicella):\n",
      "\n",
      "IMMUNE\n",
      "\n",
      "Have you had the Hepatitis B vaccination?\n",
      "\n",
      "No\n",
      "\n",
      "List any Medical Problems (asthma, seizures, headaches):\n",
      "\n",
      "Migraine\n"
     ]
    }
   ],
   "source": [
    "pytesseract.pytesseract.tesseract_cmd=r'C:\\Program Files\\Tesseract-OCR\\tesseract.exe'\n",
    "text = pytesseract.image_to_string(pages[0], lang='eng')\n",
    "print(text)"
   ]
  },
  {
   "cell_type": "code",
   "execution_count": 8,
   "id": "75408277-56be-4263-a283-93cc515e5d4f",
   "metadata": {},
   "outputs": [],
   "source": [
    "import numpy as np\n",
    "import cv2"
   ]
  },
  {
   "cell_type": "code",
   "execution_count": 9,
   "id": "71ff03fc-1e5d-451b-bb17-f9e6af649ac4",
   "metadata": {},
   "outputs": [],
   "source": [
    "def preprocess_image(img):\n",
    "     gray = cv2.cvtColor(np.array(img), cv2.COLOR_BGR2GRAY)\n",
    "     resized = cv2.resize(gray, None, fx=2,fy=2, interpolation=cv2.INTER_LINEAR)\n",
    "     processed_image = cv2.adaptiveThreshold(\n",
    "         resized,255,cv2.ADAPTIVE_THRESH_GAUSSIAN_C,cv2.THRESH_BINARY, 65,11)\n",
    "     return processed_image\n"
   ]
  },
  {
   "cell_type": "code",
   "execution_count": 10,
   "id": "0ca4a005-6882-4542-a498-b4a1c5456d99",
   "metadata": {},
   "outputs": [
    {
     "name": "stdout",
     "output_type": "stream",
     "text": [
      "17/12/2020\n",
      "\n",
      "Patient Medical Record\n",
      "\n",
      "Patient Information Birth Date\n",
      "Kathy Crawford May 6 1972\n",
      "(737) 988-0851 Weight’\n",
      "9264 Ash Dr 95\n",
      "New York City, 10005 ,\n",
      "United States Height:\n",
      "190\n",
      "In Casc of Emergency\n",
      "oe _\n",
      "Simeone Crawford 9266 Ash Dr\n",
      "New York City, New York, 10005\n",
      "Home phone United States\n",
      "(990) 375-4621\n",
      "Work phone\n",
      "\n",
      "Genera! Medical History\n",
      "\n",
      "cece\n",
      "\n",
      "— se en ee\n",
      "\n",
      "eee een a\n",
      "\n",
      "Chicken Pox (Varicella): Measles:\n",
      "\n",
      "IMMUNE IMMUNE\n",
      "\n",
      "Have you had the Hepatitis B vaccination?\n",
      "\n",
      "No\n",
      "\n",
      "List any Medical Problems (asthma, seizures, headaches):\n",
      "\n",
      "Migraine\n"
     ]
    }
   ],
   "source": [
    "image = preprocess_image(pages[0])\n",
    "\n",
    "from PIL import Image\n",
    "Image.fromarray(image).show()\n",
    "\n",
    "text = pytesseract.image_to_string(image, lang='eng')\n",
    "print(text)"
   ]
  },
  {
   "cell_type": "code",
   "execution_count": 11,
   "id": "ddf4c96c-7064-46f7-88d6-3b5423c825db",
   "metadata": {},
   "outputs": [],
   "source": [
    "import re"
   ]
  },
  {
   "cell_type": "markdown",
   "id": "cf5710d8-884c-447e-a463-7585c0a1c6d9",
   "metadata": {},
   "source": [
    "<h2>Extract Name</h2>\n"
   ]
  },
  {
   "cell_type": "code",
   "execution_count": 12,
   "id": "041fbecb-30de-48c6-bf20-9bf6fd5adb1c",
   "metadata": {},
   "outputs": [
    {
     "data": {
      "text/plain": [
       "[' Birth Date\\nKathy Crawford May 6 1972\\n']"
      ]
     },
     "execution_count": 12,
     "metadata": {},
     "output_type": "execute_result"
    }
   ],
   "source": [
    "pattern = 'Patient Information(.*?)\\(\\d{3}\\)'\n",
    "\n",
    "matches = re.findall(pattern, text, flags=re.DOTALL)\n",
    "matches"
   ]
  },
  {
   "cell_type": "code",
   "execution_count": 13,
   "id": "8054e94b-48e6-45ba-a3a5-bea4b10a44bd",
   "metadata": {},
   "outputs": [
    {
     "data": {
      "text/plain": [
       "'Birth Date\\nKathy Crawford May 6 1972'"
      ]
     },
     "execution_count": 13,
     "metadata": {},
     "output_type": "execute_result"
    }
   ],
   "source": [
    "matches[0].strip()"
   ]
  },
  {
   "cell_type": "code",
   "execution_count": 14,
   "id": "0fb40e66-6c63-4bd2-b266-88b0d4f8fb7a",
   "metadata": {},
   "outputs": [
    {
     "data": {
      "text/plain": [
       "'Kathy Crawford May 6 1972'"
      ]
     },
     "execution_count": 14,
     "metadata": {},
     "output_type": "execute_result"
    }
   ],
   "source": [
    "match = matches[0].replace('Birth Date',\"\").strip()\n",
    "match"
   ]
  },
  {
   "cell_type": "code",
   "execution_count": 15,
   "id": "0c0158e0-fd2a-4c66-a972-e40e44612392",
   "metadata": {},
   "outputs": [],
   "source": [
    "pattern = \"((Jan|Feb|March|April|May|June|July|Aug|Sep|Oct|Nov|Dec) [ \\d]+)\"\n",
    "\n",
    "date_matches = re.findall(pattern, match)\n",
    "date = date_matches[0][0]"
   ]
  },
  {
   "cell_type": "code",
   "execution_count": 16,
   "id": "c071f74b-78ad-4b57-aa07-134cc71ad7ec",
   "metadata": {},
   "outputs": [
    {
     "data": {
      "text/plain": [
       "'Kathy Crawford'"
      ]
     },
     "execution_count": 16,
     "metadata": {},
     "output_type": "execute_result"
    }
   ],
   "source": [
    "match.replace(date, '').strip()"
   ]
  },
  {
   "cell_type": "code",
   "execution_count": 17,
   "id": "0660d24b-ebd7-453b-b4ac-4df36b7fd7a6",
   "metadata": {},
   "outputs": [],
   "source": [
    "def remove_noise_from_name(name):\n",
    "    name = name.replace(\"Birth Date\",\"\").strip()\n",
    "    date_pattern = '((Jan|Feb|March|April|May|June|July|Aug|Sep|Oct|Nov|Dec)[ \\d]+)'\n",
    "    date_matches = re.findall(date_pattern, name)\n",
    "    \n",
    "    if date_matches:\n",
    "        date = date_matches[0][0]\n",
    "        name = name.replace(date, '').strip()\n",
    "\n",
    "    return name\n",
    "    "
   ]
  },
  {
   "cell_type": "code",
   "execution_count": 18,
   "id": "ab27bf36-4ffa-47be-a6d2-1987c8720e1a",
   "metadata": {},
   "outputs": [
    {
     "data": {
      "text/plain": [
       "'Kathy Crawford'"
      ]
     },
     "execution_count": 18,
     "metadata": {},
     "output_type": "execute_result"
    }
   ],
   "source": [
    "name = 'Birth Date\\nKathy Crawford May 6 1972\\n'\n",
    "\n",
    "name = remove_noise_from_name(name)\n",
    "name"
   ]
  },
  {
   "cell_type": "markdown",
   "id": "57a1471e-7cf2-4bf1-a4d1-b980073236ed",
   "metadata": {},
   "source": [
    "<h2>Extract Phone</h2>"
   ]
  },
  {
   "cell_type": "code",
   "execution_count": 19,
   "id": "042542d0-83ab-44e0-a028-2a83aa5e869e",
   "metadata": {},
   "outputs": [
    {
     "data": {
      "text/plain": [
       "[(' Birth Date\\nKathy Crawford May 6 1972\\n', '(737) 988-0851')]"
      ]
     },
     "execution_count": 19,
     "metadata": {},
     "output_type": "execute_result"
    }
   ],
   "source": [
    "pattern = 'Patient Information(.*?)(\\(\\d{3}\\) \\d{3}-\\d{4})'\n",
    "\n",
    "matches = re.findall(pattern, text, flags =re.DOTALL)\n",
    "matches"
   ]
  },
  {
   "cell_type": "code",
   "execution_count": 20,
   "id": "1ebd3739-c4fb-465f-900d-548eb7cc3b95",
   "metadata": {},
   "outputs": [
    {
     "data": {
      "text/plain": [
       "'(737) 988-0851'"
      ]
     },
     "execution_count": 20,
     "metadata": {},
     "output_type": "execute_result"
    }
   ],
   "source": [
    "matches [0][1]"
   ]
  },
  {
   "cell_type": "markdown",
   "id": "ef32be8a-2dfe-4087-a2ad-3af1e62c78a8",
   "metadata": {},
   "source": [
    "<h2>Extract vaccine</h2>"
   ]
  },
  {
   "cell_type": "code",
   "execution_count": 21,
   "id": "10375e1d-7d35-4567-a471-4a42d648f4c2",
   "metadata": {},
   "outputs": [
    {
     "data": {
      "text/plain": [
       "['No']"
      ]
     },
     "execution_count": 21,
     "metadata": {},
     "output_type": "execute_result"
    }
   ],
   "source": [
    "pattern = 'Have you had the Hepatitis B vaccination\\?.*(Yes|No)'\n",
    "\n",
    "matches = re.findall(pattern, text, flags =re.DOTALL)\n",
    "matches"
   ]
  },
  {
   "cell_type": "markdown",
   "id": "9ab5d9db-eaaf-452b-a823-d4fc38aad252",
   "metadata": {},
   "source": [
    "<h2>Extract Medical Problems</h2>"
   ]
  },
  {
   "cell_type": "code",
   "execution_count": 22,
   "id": "cecb061c-9049-4ed1-9c93-0e79c08b724d",
   "metadata": {},
   "outputs": [
    {
     "data": {
      "text/plain": [
       "'Migraine'"
      ]
     },
     "execution_count": 22,
     "metadata": {},
     "output_type": "execute_result"
    }
   ],
   "source": [
    "pattern = 'List any Medical Problems \\(asthma, seizures, headaches\\):(.*)'\n",
    "\n",
    "matches = re.findall(pattern, text, flags =re.DOTALL)\n",
    "matches[0].strip()"
   ]
  }
 ],
 "metadata": {
  "kernelspec": {
   "display_name": "Python 3 (ipykernel)",
   "language": "python",
   "name": "python3"
  },
  "language_info": {
   "codemirror_mode": {
    "name": "ipython",
    "version": 3
   },
   "file_extension": ".py",
   "mimetype": "text/x-python",
   "name": "python",
   "nbconvert_exporter": "python",
   "pygments_lexer": "ipython3",
   "version": "3.8.10"
  }
 },
 "nbformat": 4,
 "nbformat_minor": 5
}
