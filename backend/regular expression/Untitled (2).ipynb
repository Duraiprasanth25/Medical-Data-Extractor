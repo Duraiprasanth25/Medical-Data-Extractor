{
 "cells": [
  {
   "cell_type": "code",
   "execution_count": 2,
   "id": "a47de572-e878-439b-ac42-1cf011f28eb9",
   "metadata": {},
   "outputs": [],
   "source": [
    "from pdf2image import convert_from_path"
   ]
  },
  {
   "cell_type": "code",
   "execution_count": 6,
   "id": "aad72b73-26e6-44c2-b270-624d2075e62c",
   "metadata": {},
   "outputs": [],
   "source": [
    "pages = convert_from_path(r'docs\\prescription\\pre_2.pdf',poppler_path = r'C:\\poppler-24.02.0\\Library\\bin')"
   ]
  },
  {
   "cell_type": "code",
   "execution_count": 7,
   "id": "92660e60-1f78-4c67-b664-4ff53bd99dae",
   "metadata": {},
   "outputs": [
    {
     "data": {
      "text/plain": [
       "<bound method Image.show of <PIL.PpmImagePlugin.PpmImageFile image mode=RGB size=1700x2200 at 0x1C827880D60>>"
      ]
     },
     "execution_count": 7,
     "metadata": {},
     "output_type": "execute_result"
    }
   ],
   "source": [
    "pages[0].show"
   ]
  },
  {
   "cell_type": "code",
   "execution_count": 10,
   "id": "2fa6cd94-50e7-4137-a205-21a75ad18186",
   "metadata": {},
   "outputs": [],
   "source": [
    "import pytesseract"
   ]
  },
  {
   "cell_type": "code",
   "execution_count": 11,
   "id": "24f46308-7601-4bd9-a568-1161be72bceb",
   "metadata": {},
   "outputs": [],
   "source": [
    "pytesseract.pytesseract.tesseract_cmd = r'C:\\Program Files\\Tesseract-OCR\\tesseract.exe'\n",
    "text = pytesseract.image_to_string(pages[0],lang = 'eng')"
   ]
  },
  {
   "cell_type": "code",
   "execution_count": 12,
   "id": "ce7c833b-792e-4324-8320-bac7ecf30c36",
   "metadata": {},
   "outputs": [
    {
     "name": "stdout",
     "output_type": "stream",
     "text": [
      "Refill: 3 times\n"
     ]
    }
   ],
   "source": [
    "print(text)"
   ]
  },
  {
   "cell_type": "code",
   "execution_count": 19,
   "id": "b7d365f4-8111-495c-9450-b15d263655ea",
   "metadata": {},
   "outputs": [],
   "source": [
    "import numpy as np\n",
    "import cv2\n",
    "from PIL import Image\n",
    "\n",
    "def preprocess_image(img):\n",
    "    gray = cv2.cvtColor(np.array(img), cv2.COLOR_BGR2GRAY)\n",
    "    resized = cv2.resize(gray, None, fx=1.5, fy=1.5, interpolation=cv2.INTER_LINEAR)\n",
    "    processed_image = cv2.adaptiveThreshold(\n",
    "        resized, \n",
    "        255, \n",
    "        cv2.ADAPTIVE_THRESH_GAUSSIAN_C, \n",
    "        cv2.THRESH_BINARY,\n",
    "        61, \n",
    "        11\n",
    "    )\n",
    "    return processed_image"
   ]
  },
  {
   "cell_type": "code",
   "execution_count": 20,
   "id": "9d86d5ab-ef07-44c0-9d61-432ad01f1076",
   "metadata": {},
   "outputs": [],
   "source": [
    "img = preprocess_image(pages[0])\n",
    "Image.fromarray(img).show()"
   ]
  },
  {
   "cell_type": "code",
   "execution_count": 21,
   "id": "3e2754df-a68b-403d-8968-dc10bd94c85e",
   "metadata": {},
   "outputs": [],
   "source": [
    "pytesseract.pytesseract.tesseract_cmd = r'C:\\Program Files\\Tesseract-OCR\\tesseract.exe'\n",
    "text = pytesseract.image_to_string(img,lang = 'eng')"
   ]
  },
  {
   "cell_type": "code",
   "execution_count": 22,
   "id": "93b6ea2c-8f21-4cb3-93d2-5be468c3b4fd",
   "metadata": {},
   "outputs": [
    {
     "name": "stdout",
     "output_type": "stream",
     "text": [
      "Dr John >mith, M.D\n",
      "\n",
      "2 Non-Important street,\n",
      "New York, Phone (900)-323- ~2222\n",
      "\n",
      "Name:  Virat Kohli Date: 2/05/2022\n",
      "\n",
      "Address: 2 cricket blvd, New Delhi\n",
      "\n",
      "| Omeprazole 40 mg\n",
      "\n",
      "Directions: Use two tablets daily for three months\n",
      "\n",
      "Refill: 3 times\n"
     ]
    }
   ],
   "source": [
    "print(text)"
   ]
  }
 ],
 "metadata": {
  "kernelspec": {
   "display_name": "Python 3 (ipykernel)",
   "language": "python",
   "name": "python3"
  },
  "language_info": {
   "codemirror_mode": {
    "name": "ipython",
    "version": 3
   },
   "file_extension": ".py",
   "mimetype": "text/x-python",
   "name": "python",
   "nbconvert_exporter": "python",
   "pygments_lexer": "ipython3",
   "version": "3.8.10"
  }
 },
 "nbformat": 4,
 "nbformat_minor": 5
}
